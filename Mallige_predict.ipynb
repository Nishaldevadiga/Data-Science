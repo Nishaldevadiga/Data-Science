{
 "cells": [
  {
   "cell_type": "code",
   "execution_count": 8,
   "id": "f7d5c414-0ab4-44d0-8ad5-d909bf2432e5",
   "metadata": {},
   "outputs": [
    {
     "name": "stdout",
     "output_type": "stream",
     "text": [
      "The predicted Jasmine price for 2024-10-08 00:00:00 is: 853.59\n"
     ]
    }
   ],
   "source": [
    "from prophet import Prophet\n",
    "import pandas as pd\n",
    "from datetime import datetime\n",
    "import pickle\n",
    "\n",
    "# Load your trained Prophet model\n",
    "with open('prophet_model.pkl', 'rb') as f:\n",
    "    model = pickle.load(f)\n",
    "\n",
    "# Function to take a date as input and return the forecasted Jasmine price\n",
    "def forecast_price(input_date):\n",
    "    # Convert input date string to a datetime object\n",
    "    input_date = datetime.strptime(input_date, \"%Y-%m-%d\")\n",
    "    \n",
    "    # Create a DataFrame with future dates including the input date\n",
    "    future_dates = pd.DataFrame({'ds': [input_date]})\n",
    "    \n",
    "    # Use the model to make predictions\n",
    "    forecast = model.predict(future_dates)\n",
    "    \n",
    "    # Extract and return the predicted price (yhat) for the given date\n",
    "    predicted_price = forecast[['ds', 'yhat']].iloc[0]\n",
    "    return predicted_price\n",
    "\n",
    "# Take date input from the user\n",
    "input_date = input(\"Enter the date for forecast (YYYY-MM-DD): \")\n",
    "predicted_price = forecast_price(input_date)\n",
    "\n",
    "# Print the forecast result\n",
    "print(f\"The predicted Jasmine price for {predicted_price['ds']} is: {predicted_price['yhat']:.2f}\")\n"
   ]
  },
  {
   "cell_type": "code",
   "execution_count": null,
   "id": "6e7577bc",
   "metadata": {},
   "outputs": [],
   "source": []
  }
 ],
 "metadata": {
  "kernelspec": {
   "display_name": "Python 3 (ipykernel)",
   "language": "python",
   "name": "python3"
  },
  "language_info": {
   "codemirror_mode": {
    "name": "ipython",
    "version": 3
   },
   "file_extension": ".py",
   "mimetype": "text/x-python",
   "name": "python",
   "nbconvert_exporter": "python",
   "pygments_lexer": "ipython3",
   "version": "3.11.7"
  }
 },
 "nbformat": 4,
 "nbformat_minor": 5
}
