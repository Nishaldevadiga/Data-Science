{
 "cells": [
  {
   "cell_type": "code",
   "execution_count": 2,
   "id": "f7d5c414-0ab4-44d0-8ad5-d909bf2432e5",
   "metadata": {},
   "outputs": [
    {
     "name": "stdin",
     "output_type": "stream",
     "text": [
      "Enter the date (YYYY-MM-DD):  2024-08-18\n"
     ]
    },
    {
     "name": "stdout",
     "output_type": "stream",
     "text": [
      "The predicted price of jasmine flowers on 2024-08-18 is: 580.65\n"
     ]
    },
    {
     "name": "stderr",
     "output_type": "stream",
     "text": [
      "/opt/anaconda3/lib/python3.11/site-packages/sklearn/base.py:493: UserWarning: X does not have valid feature names, but PolynomialFeatures was fitted with feature names\n",
      "  warnings.warn(\n"
     ]
    }
   ],
   "source": [
    "import pandas as pd\n",
    "import numpy as np\n",
    "from sklearn.preprocessing import PolynomialFeatures\n",
    "from sklearn.linear_model import LinearRegression\n",
    "import pickle\n",
    "import datetime\n",
    "\n",
    "# Load the trained model\n",
    "with open('jasmine_model.pkl', 'rb') as file:\n",
    "    model = pickle.load(file)\n",
    "\n",
    "# Load the PolynomialFeatures\n",
    "with open('poly_features.pkl', 'rb') as file:\n",
    "    poly = pickle.load(file)\n",
    "\n",
    "# Function to preprocess input date and create features\n",
    "def preprocess_input(date_input):\n",
    "    date = pd.to_datetime(date_input)\n",
    "    year = date.year\n",
    "    month = date.month\n",
    "    day = date.day\n",
    "    day_of_week = date.dayofweek\n",
    "    day_of_year = date.dayofyear\n",
    "    \n",
    "   \n",
    "    \n",
    "    features = [[year, month, day, day_of_week, day_of_year]]\n",
    "    \n",
    "    return features\n",
    "\n",
    "# Function to predict price\n",
    "def predict_price(date_input):\n",
    "    features = preprocess_input(date_input)\n",
    "    features_poly = poly.transform(features)\n",
    "    \n",
    "    predicted_price = model.predict(features_poly)\n",
    "    return predicted_price[0]\n",
    "\n",
    "# Main function to take user input and predict price\n",
    "def main():\n",
    "    date_input = input(\"Enter the date (YYYY-MM-DD): \")\n",
    "    try:\n",
    "        # Check if the input date is valid\n",
    "        datetime.datetime.strptime(date_input, '%Y-%m-%d')\n",
    "        predicted_price = predict_price(date_input)\n",
    "        print(f\"The predicted price of jasmine flowers on {date_input} is: {predicted_price:.2f}\")\n",
    "    except ValueError:\n",
    "        print(\"Invalid date format. Please enter the date in YYYY-MM-DD format.\")\n",
    "\n",
    "if __name__ == \"__main__\":\n",
    "    main()\n"
   ]
  }
 ],
 "metadata": {
  "kernelspec": {
   "display_name": "Python 3 (ipykernel)",
   "language": "python",
   "name": "python3"
  },
  "language_info": {
   "codemirror_mode": {
    "name": "ipython",
    "version": 3
   },
   "file_extension": ".py",
   "mimetype": "text/x-python",
   "name": "python",
   "nbconvert_exporter": "python",
   "pygments_lexer": "ipython3",
   "version": "3.11.7"
  }
 },
 "nbformat": 4,
 "nbformat_minor": 5
}
